{
 "cells": [
  {
   "cell_type": "markdown",
   "metadata": {},
   "source": [
    "Este script permite capturar las notificaciones enviadas por \n",
    "una camara Hikvision frente a un evento, tal como deteccion de movimiento\n",
    "\n",
    " ## Configurar la camara\n",
    "\n",
    "Antes es necesario configurar la Camara Hikvision para recibir las notificaciones\n",
    "debemos tener un archivo XML con la siguiente informacion:\n",
    "\n",
    "#### server_events.xml \n",
    "```xml\n",
    "<HttpHostNotification version=\"2.0\">\n",
    "<id>100</id>\n",
    "<url>eventos</url>\n",
    "<protocolType>HTTP</protocolType>\n",
    "<parameterFormatType>XML</parameterFormatType>\n",
    "<addressingFormatType>ipaddress</addressingFormatType>\n",
    "<ipAddress>192.168.0.1</ipAddress>\n",
    "<portNo>8000</portNo>\n",
    "<userName></userName>\n",
    "<httpAuthenticationMethod>none</httpAuthenticationMethod>\n",
    "</HttpHostNotification>\"\n",
    "```\n",
    "Como parametro importantes son la IP y puerto del servidor, la funciona a ejecutar(eventos)\n",
    "\n",
    "Esta configuracion se cargara con el siguiente comando curl:\n",
    "\n",
    " curl -T server_events.xml http://usuario:password@ip_camara/ISAPI/Event/notification/httpHosts/1\n",
    " \n",
    "Ademas es necesario configurar la deteccion de movimiento\n"
   ]
  },
  {
   "cell_type": "markdown",
   "metadata": {},
   "source": [
    "### Servicio de recepcion\n",
    "\n",
    "El siguiente script captura los eventos de las camaras"
   ]
  },
  {
   "cell_type": "code",
   "execution_count": 125,
   "metadata": {},
   "outputs": [],
   "source": [
    "# Librerias necesarias \n",
    "from flask import Flask\n",
    "from flask import request\n",
    "import xmltodict"
   ]
  },
  {
   "cell_type": "code",
   "execution_count": 126,
   "metadata": {},
   "outputs": [
    {
     "data": {
      "text/plain": [
       "'\\nFormato de notificacion XML de camara hikvision\\n\\n<?xml version=\"1.0\" encoding=\"UTF-8\"?>\\n<EventNotificationAlert version=\"1.0\" xmlns=\"urn:psialliance-org\">\\n<ipAddress>10.0.20.30</ipAddress>\\n<protocolType>HTTP</protocolType>\\n<macAddress>a4:14:37:7f:5a:a6</macAddress>\\n<channelID>1</channelID>\\n<dateTime>2020-04-24T15:31:38-4:00</dateTime>\\n<activePostCount>1474</activePostCount>\\n<eventType>VMD</eventType>\\n<eventState>active</eventState>\\n<eventDescription>Motion alarm</eventDescription>\\n<Extensions version=\"1.0\" xmlns=\"urn:psialliance-org\">\\n<serialNumber xmlns=\"urn:selfextension:psiaext-ver10-xsd\">DS-2CD2120F-IS20161028AAWR665222292</serialNumber>\\n<eventPush xmlns=\"urn:selfextension:psiaext-ver10-xsd\">VMD  DS-2CD2120F-IS20161028AAWR665222292,2020-04-24T15:31:38-4:00,1,1.0</eventPush>\\n</Extensions>\\n</EventNotificationAlert>\\n'"
      ]
     },
     "execution_count": 126,
     "metadata": {},
     "output_type": "execute_result"
    }
   ],
   "source": [
    "'''\n",
    "Formato de notificacion XML de camara hikvision\n",
    "\n",
    "<?xml version=\"1.0\" encoding=\"UTF-8\"?>\n",
    "<EventNotificationAlert version=\"1.0\" xmlns=\"urn:psialliance-org\">\n",
    "<ipAddress>10.0.20.30</ipAddress>\n",
    "<protocolType>HTTP</protocolType>\n",
    "<macAddress>a4:14:37:7f:5a:a6</macAddress>\n",
    "<channelID>1</channelID>\n",
    "<dateTime>2020-04-24T15:31:38-4:00</dateTime>\n",
    "<activePostCount>1474</activePostCount>\n",
    "<eventType>VMD</eventType>\n",
    "<eventState>active</eventState>\n",
    "<eventDescription>Motion alarm</eventDescription>\n",
    "<Extensions version=\"1.0\" xmlns=\"urn:psialliance-org\">\n",
    "<serialNumber xmlns=\"urn:selfextension:psiaext-ver10-xsd\">DS-2CD2120F-IS20161028AAWR665222292</serialNumber>\n",
    "<eventPush xmlns=\"urn:selfextension:psiaext-ver10-xsd\">VMD  DS-2CD2120F-IS20161028AAWR665222292,2020-04-24T15:31:38-4:00,1,1.0</eventPush>\n",
    "</Extensions>\n",
    "</EventNotificationAlert>\n",
    "'''"
   ]
  },
  {
   "cell_type": "code",
   "execution_count": 127,
   "metadata": {},
   "outputs": [
    {
     "name": "stdout",
     "output_type": "stream",
     "text": [
      " * Serving Flask app \"__main__\" (lazy loading)\n",
      " * Environment: production\n",
      "   WARNING: This is a development server. Do not use it in a production deployment.\n",
      "   Use a production WSGI server instead.\n",
      " * Debug mode: off\n"
     ]
    },
    {
     "name": "stderr",
     "output_type": "stream",
     "text": [
      " * Running on http://0.0.0.0:8000/ (Press CTRL+C to quit)\n"
     ]
    }
   ],
   "source": [
    "app = Flask(__name__)\n",
    " \n",
    "@app.route('/evento', methods = ['POST','GET'])\n",
    "def evento():\n",
    "    content = request\n",
    "    print(request)\n",
    "    ## se captura los datos en XML y se transporma a diccionario\n",
    "    datos=request.get_data()\n",
    "    datos_string = datos.decode('utf-8')\n",
    "    datos_string = datos_string.replace('&', ' ')\n",
    "    datos_dic = xmltodict.parse(datos_string)\n",
    "    ## se imprimen los datos principales\n",
    "    print(\"Camara: \" + datos_dic[\"EventNotificationAlert\"][\"ipAddress\"])\n",
    "    print(\"Canal: \" + datos_dic[\"EventNotificationAlert\"][\"channelID\"])\n",
    "    print(\"Tipo de evento: \" + datos_dic[\"EventNotificationAlert\"][\"eventType\"])\n",
    "    print(\"Estado: \" + datos_dic[\"EventNotificationAlert\"][\"eventState\"])\n",
    "    print(\"Descripcion: \" + datos_dic[\"EventNotificationAlert\"][\"eventDescription\"])\n",
    "    return 'JSON posted' \n",
    "app.run(host='0.0.0.0', port= 8000)"
   ]
  },
  {
   "cell_type": "code",
   "execution_count": null,
   "metadata": {},
   "outputs": [],
   "source": []
  }
 ],
 "metadata": {
  "kernelspec": {
   "display_name": "Python 3",
   "language": "python",
   "name": "python3"
  },
  "language_info": {
   "codemirror_mode": {
    "name": "ipython",
    "version": 3
   },
   "file_extension": ".py",
   "mimetype": "text/x-python",
   "name": "python",
   "nbconvert_exporter": "python",
   "pygments_lexer": "ipython3",
   "version": "3.7.3"
  }
 },
 "nbformat": 4,
 "nbformat_minor": 2
}
